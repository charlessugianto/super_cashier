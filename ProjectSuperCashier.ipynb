{
 "cells": [
  {
   "cell_type": "code",
   "execution_count": 1,
   "id": "9e8e2131",
   "metadata": {},
   "outputs": [],
   "source": [
    "import SuperCashier1 as s"
   ]
  },
  {
   "cell_type": "code",
   "execution_count": 2,
   "id": "983e1fba",
   "metadata": {},
   "outputs": [
    {
     "name": "stdout",
     "output_type": "stream",
     "text": [
      "Test Case 1\n",
      "Item yang berhasil masuk dalam keranjang\n",
      "Nama item     : Ayam Goreng\n",
      "Jumlah           : 2\n",
      "Harga per item: Rp. 20000\n",
      "\n",
      "\n",
      "Item yang berhasil masuk dalam keranjang\n",
      "Nama item     : Pasta Gigi\n",
      "Jumlah           : 3\n",
      "Harga per item: Rp. 15000\n",
      "\n",
      "\n",
      "Berikut adalah transaksi belanja Anda :\n",
      "|    | Item        |   Quantity |   Price |   Total_Price |\n",
      "|----|-------------|------------|---------|---------------|\n",
      "|  0 | Ayam Goreng |          2 |   20000 |         40000 |\n",
      "|  1 | Pasta Gigi  |          3 |   15000 |         45000 |\n",
      "Total pembayaran sebesar Rp.85000\n"
     ]
    }
   ],
   "source": [
    "# Test Case 1: Menambahkan dua item baru\n",
    "user = s.Transaction()\n",
    "print(\"Test Case 1\")\n",
    "user.add_item(\"Ayam Goreng\", 2, 20_000)\n",
    "print(\"\\n\")\n",
    "user.add_item(\"Pasta Gigi\", 3, 15_000)\n",
    "print(\"\\n\")\n",
    "print(\"Berikut adalah transaksi belanja Anda :\")\n",
    "user.check_order()\n",
    "user.total_price()"
   ]
  },
  {
   "cell_type": "code",
   "execution_count": 3,
   "id": "666d1552",
   "metadata": {},
   "outputs": [
    {
     "name": "stdout",
     "output_type": "stream",
     "text": [
      "Anda telah berhasil menghapus item Pasta Gigi dari transaksi sebelumnya\n",
      "\n",
      "Berikut adalah transaksi belanja Anda :\n",
      "|    | Item        |   Quantity |   Price |   Total_Price |\n",
      "|----|-------------|------------|---------|---------------|\n",
      "|  0 | Ayam Goreng |          2 |   20000 |         40000 |\n",
      "Total pembayaran sebesar Rp.40000\n"
     ]
    }
   ],
   "source": [
    "# Test Case 2: Menghapus salah satu item\n",
    "user.delete_item(\"Pasta Gigi\")\n",
    "print(\"Berikut adalah transaksi belanja Anda :\")\n",
    "user.check_order()\n",
    "user.total_price()"
   ]
  },
  {
   "cell_type": "code",
   "execution_count": 4,
   "id": "d5a2944e",
   "metadata": {},
   "outputs": [
    {
     "name": "stdout",
     "output_type": "stream",
     "text": [
      "Semua item berhasil di delete!\n",
      "| Item   | Quantity   | Price   |\n",
      "|--------|------------|---------|\n"
     ]
    }
   ],
   "source": [
    "# Test Case 3: Menghapus semua item\n",
    "user.reset_transaction()"
   ]
  },
  {
   "cell_type": "code",
   "execution_count": 5,
   "id": "3d227f3d",
   "metadata": {},
   "outputs": [
    {
     "name": "stdout",
     "output_type": "stream",
     "text": [
      "Item yang berhasil masuk dalam keranjang\n",
      "Nama item     : Ayam Goreng\n",
      "Jumlah           : 2\n",
      "Harga per item: Rp. 20000\n",
      "\n",
      "\n",
      "Item yang berhasil masuk dalam keranjang\n",
      "Nama item     : Pasta Gigi\n",
      "Jumlah           : 3\n",
      "Harga per item: Rp. 15000\n",
      "\n",
      "\n",
      "Item yang berhasil masuk dalam keranjang\n",
      "Nama item     : Mainan Mobil\n",
      "Jumlah           : 1\n",
      "Harga per item: Rp. 200000\n",
      "\n",
      "\n",
      "Item yang berhasil masuk dalam keranjang\n",
      "Nama item     : Mie Instan\n",
      "Jumlah           : 5\n",
      "Harga per item: Rp. 3000\n",
      "\n",
      "\n",
      "Tabel Pemesanan :\n",
      "|    | Item         |   Quantity |   Price |   Total_Price |\n",
      "|----|--------------|------------|---------|---------------|\n",
      "|  0 | Ayam Goreng  |          2 |   20000 |         40000 |\n",
      "|  1 | Pasta Gigi   |          3 |   15000 |         45000 |\n",
      "|  2 | Mainan Mobil |          1 |  200000 |        200000 |\n",
      "|  3 | Mie Instan   |          5 |    3000 |         15000 |\n",
      "Total Harga item sebesar Rp.300000 \n",
      "Anda mendapatkan diskon sebesar 5% \n",
      "Total pembayaran sebesar Rp.285000\n"
     ]
    }
   ],
   "source": [
    "# Test Case 4: Menghitung total belanja\n",
    "user.add_item(\"Ayam Goreng\", 2, 20_000)\n",
    "print(\"\\n\")\n",
    "user.add_item(\"Pasta Gigi\", 3, 15_000)\n",
    "print(\"\\n\")\n",
    "user.add_item(\"Mainan Mobil\", 1, 200_000)\n",
    "print(\"\\n\")\n",
    "user.add_item(\"Mie Instan\", 5, 3_000)\n",
    "print(\"\\n\")\n",
    "print(\"Tabel Pemesanan :\")\n",
    "user.check_order()\n",
    "user.total_price()"
   ]
  },
  {
   "cell_type": "code",
   "execution_count": 6,
   "id": "e8702800",
   "metadata": {},
   "outputs": [
    {
     "name": "stdout",
     "output_type": "stream",
     "text": [
      "Tabel Pemesanan Sebelum Update:\n",
      "|    | Item         |   Quantity |   Price |   Total_Price |\n",
      "|----|--------------|------------|---------|---------------|\n",
      "|  0 | Ayam Goreng  |          2 |   20000 |         40000 |\n",
      "|  1 | Pasta Gigi   |          3 |   15000 |         45000 |\n",
      "|  2 | Mainan Mobil |          1 |  200000 |        200000 |\n",
      "|  3 | Mie Instan   |          5 |    3000 |         15000 |\n",
      "Total Harga item sebesar Rp.300000 \n",
      "Anda mendapatkan diskon sebesar 5% \n",
      "Total pembayaran sebesar Rp.285000\n",
      "\n",
      "\n",
      "Anda telah berhasil mengganti item Pasta Gigi menjadi Sabun Mandi\n",
      "Anda telah berhasil mengganti jumlah item Ayam Goreng menjadi 3\n",
      "Anda telah berhasil mengganti harga item Mie Instan menjadi 3500\n",
      "\n",
      "\n",
      "Tabel Pemesanan Setelah Update:\n",
      "|    | Item         |   Quantity |   Price |   Total_Price |\n",
      "|----|--------------|------------|---------|---------------|\n",
      "|  0 | Ayam Goreng  |          3 |   20000 |         60000 |\n",
      "|  1 | Sabun Mandi  |          3 |   15000 |         45000 |\n",
      "|  2 | Mainan Mobil |          1 |  200000 |        200000 |\n",
      "|  3 | Mie Instan   |          5 |    3500 |         17500 |\n",
      "Total Harga item sebesar Rp.322500 \n",
      "Anda mendapatkan diskon sebesar 8% \n",
      "Total pembayaran sebesar Rp.296700\n"
     ]
    }
   ],
   "source": [
    "# Test Case 5: Memperbaharui Item, Quantity, dan Harga\n",
    "print(\"Tabel Pemesanan Sebelum Update:\")\n",
    "user.check_order()\n",
    "user.total_price()\n",
    "print(\"\\n\")\n",
    "# Update Item pasta gigi\n",
    "user.update_item_name(\"Pasta Gigi\", \"Sabun Mandi\")\n",
    "# Update Quantity ayam goreng\n",
    "user.update_item_quantity(\"Ayam Goreng\", 3)\n",
    "# Update Harga mie instan\n",
    "user.update_item_price(\"Mie Instan\", 3_500)\n",
    "print(\"\\n\")\n",
    "print(\"Tabel Pemesanan Setelah Update:\")\n",
    "user.check_order()\n",
    "user.total_price()"
   ]
  },
  {
   "cell_type": "code",
   "execution_count": 7,
   "id": "612c3ec5",
   "metadata": {},
   "outputs": [
    {
     "name": "stdout",
     "output_type": "stream",
     "text": [
      "Masukkan jumlah item lebih besar dari 0\n"
     ]
    }
   ],
   "source": [
    "# Test Case 6: Kesalahan Input\n",
    "user.add_item(\"Gula\", -40, 10_000)"
   ]
  },
  {
   "cell_type": "code",
   "execution_count": null,
   "id": "7fcc57fb",
   "metadata": {},
   "outputs": [],
   "source": []
  }
 ],
 "metadata": {
  "kernelspec": {
   "display_name": "Python 3 (ipykernel)",
   "language": "python",
   "name": "python3"
  },
  "language_info": {
   "codemirror_mode": {
    "name": "ipython",
    "version": 3
   },
   "file_extension": ".py",
   "mimetype": "text/x-python",
   "name": "python",
   "nbconvert_exporter": "python",
   "pygments_lexer": "ipython3",
   "version": "3.9.13"
  }
 },
 "nbformat": 4,
 "nbformat_minor": 5
}
